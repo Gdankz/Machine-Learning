{
 "cells": [
  {
   "cell_type": "code",
   "execution_count": 2,
   "id": "initial_id",
   "metadata": {
    "collapsed": true,
    "ExecuteTime": {
     "end_time": "2024-05-23T16:24:06.161500Z",
     "start_time": "2024-05-23T16:24:05.901786Z"
    }
   },
   "outputs": [
    {
     "name": "stdout",
     "output_type": "stream",
     "text": [
      "Notebook has been fixed and validated successfully.\n"
     ]
    }
   ],
   "source": [
    "import nbformat\n",
    "\n",
    "# Ganti 'path/to/your/notebook.ipynb' dengan path ke notebook Anda\n",
    "notebook_path = 'E:\\\\File Penting\\\\USD\\\\SEMESTER 4\\\\Pembelajaran Mesin\\\\Tugas2\\\\225314095.ipynb'\n",
    "\n",
    "# Baca notebook\n",
    "with open(notebook_path, 'r', encoding='utf-8') as f:\n",
    "    nb = nbformat.read(f, as_version=4)\n",
    "\n",
    "# Tambahkan properti 'execution_count' ke semua sel kode yang tidak memilikinya\n",
    "for cell in nb.cells:\n",
    "    if cell.cell_type == 'code' and 'execution_count' not in cell:\n",
    "        cell['execution_count'] = None\n",
    "\n",
    "# Tulis ulang notebook\n",
    "with open(notebook_path, 'w', encoding='utf-8') as f:\n",
    "    nbformat.write(nb, f)\n",
    "\n",
    "# Validasi notebook\n",
    "nbformat.validate(nb)\n",
    "\n",
    "print(\"Notebook has been fixed and validated successfully.\")\n"
   ]
  },
  {
   "cell_type": "code",
   "outputs": [],
   "source": [],
   "metadata": {
    "collapsed": false
   },
   "id": "3363af977288b296"
  }
 ],
 "metadata": {
  "kernelspec": {
   "display_name": "Python 3",
   "language": "python",
   "name": "python3"
  },
  "language_info": {
   "codemirror_mode": {
    "name": "ipython",
    "version": 2
   },
   "file_extension": ".py",
   "mimetype": "text/x-python",
   "name": "python",
   "nbconvert_exporter": "python",
   "pygments_lexer": "ipython2",
   "version": "2.7.6"
  }
 },
 "nbformat": 4,
 "nbformat_minor": 5
}
